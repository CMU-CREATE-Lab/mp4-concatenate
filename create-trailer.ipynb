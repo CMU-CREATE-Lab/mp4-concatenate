{
 "metadata": {
  "name": "",
  "signature": "sha256:05bfa5f2c14ec57a1b2308b369dc420af130a057941cd94ddac98aea25fb719d"
 },
 "nbformat": 3,
 "nbformat_minor": 0,
 "worksheets": [
  {
   "cells": [
    {
     "cell_type": "code",
     "collapsed": false,
     "input": [
      "from mp4lib import *"
     ],
     "language": "python",
     "metadata": {},
     "outputs": [],
     "prompt_number": 11
    },
    {
     "cell_type": "code",
     "collapsed": false,
     "input": [
      "!ffmpeg -y -s 1068x600 -f rawvideo -pix_fmt rgb24 -r 12 -i /dev/zero -vframes 10 -bf 0 trailer-1.mp4 >/dev/null 2>&1\n",
      "print MP4('trailer-1.mp4').chunks()[0]"
     ],
     "language": "python",
     "metadata": {},
     "outputs": [
      {
       "output_type": "stream",
       "stream": "stdout",
       "text": [
        "Read trailer-1.mp4\n",
        "Chunk(video=trailer-1.mp4, index=0, offset=48, nsamples=10, length=1111, sample_description=adaef261)\n"
       ]
      }
     ],
     "prompt_number": 37
    },
    {
     "cell_type": "code",
     "collapsed": false,
     "input": [
      "!ffmpeg -y -f lavfi -i color=black:size=1068x600 -frames:v 10 -r 12 -bf 0 trailer-2.mp4 >/dev/null 2>&1\n",
      "print MP4('trailer-2.mp4').chunks()[0]"
     ],
     "language": "python",
     "metadata": {},
     "outputs": [
      {
       "output_type": "stream",
       "stream": "stdout",
       "text": [
        "Read trailer-2.mp4\n",
        "Chunk(video=trailer-2.mp4, index=0, offset=48, nsamples=10, length=1100, sample_description=b8b03922)\n"
       ]
      }
     ],
     "prompt_number": 38
    },
    {
     "cell_type": "markdown",
     "metadata": {},
     "source": [
      "Experiments in creating a compatible black trailer\n",
      "=================================================="
     ]
    },
    {
     "cell_type": "code",
     "collapsed": false,
     "input": [
      "!ffmpeg -y -i short.mp4 -vframes 10 -g 10 -bf 0 trailer-3.mp4 >/dev/null 2>&1\n",
      "print MP4('trailer-3.mp4').chunks()[0]"
     ],
     "language": "python",
     "metadata": {},
     "outputs": [
      {
       "output_type": "stream",
       "stream": "stdout",
       "text": [
        "Read trailer-3.mp4\n",
        "Chunk(video=trailer-3.mp4, index=0, offset=48, nsamples=10, length=200180, sample_description=157686f3)\n"
       ]
      }
     ],
     "prompt_number": 39
    },
    {
     "cell_type": "code",
     "collapsed": false,
     "input": [
      "!ffmpeg -y -i short.mp4 -g 10 -bf 0 -preset slow trailer-3b.mp4 >/dev/null 2>&1\n",
      "print MP4('trailer-3b.mp4').chunks()[0]"
     ],
     "language": "python",
     "metadata": {},
     "outputs": [
      {
       "output_type": "stream",
       "stream": "stdout",
       "text": [
        "Read trailer-3b.mp4\n",
        "Chunk(video=trailer-3b.mp4, index=0, offset=48, nsamples=50, length=1014585, sample_description=eb9e202e)\n"
       ]
      }
     ],
     "prompt_number": 40
    },
    {
     "cell_type": "code",
     "collapsed": false,
     "input": [
      "!ffmpeg -y -i short.mp4 -vcodec libx264 -preset slow -pix_fmt yuv420p -crf 26 -g 10 -bf 0 trailer-3c.mp4 >/dev/null 2>&1\n",
      "print MP4('trailer-3c.mp4').chunks()[0]"
     ],
     "language": "python",
     "metadata": {},
     "outputs": [
      {
       "output_type": "stream",
       "stream": "stdout",
       "text": [
        "Read trailer-3c.mp4\n",
        "Chunk(video=trailer-3c.mp4, index=0, offset=48, nsamples=61, length=1042928, sample_description=ac2ab1cc)\n"
       ]
      }
     ],
     "prompt_number": 71
    },
    {
     "cell_type": "markdown",
     "metadata": {},
     "source": [
      "The following trailer seems to work.  Used this commandline to generate new trailer.mp4\n",
      "======================================================================================="
     ]
    },
    {
     "cell_type": "code",
     "collapsed": false,
     "input": [
      "!ffmpeg -y -i short.mp4 -vf \"lutrgb=r=0:g=0:b=0\" -vframes 10 -vcodec libx264 -preset slow -pix_fmt yuv420p -crf 26 -g 10 -bf 0 trailer-3d.mp4 >/dev/null 2>&1\n",
      "print MP4('trailer-3d.mp4').chunks()[0]"
     ],
     "language": "python",
     "metadata": {},
     "outputs": [
      {
       "output_type": "stream",
       "stream": "stdout",
       "text": [
        "Read trailer-3d.mp4\n",
        "Chunk(video=trailer-3d.mp4, index=0, offset=48, nsamples=10, length=1306, sample_description=ac2ab1cc)\n"
       ]
      }
     ],
     "prompt_number": 72
    },
    {
     "cell_type": "code",
     "collapsed": false,
     "input": [
      "!ffmpeg -y -s 1068x600 -f rawvideo -pix_fmt rgb24 -r 12 -i /dev/zero -vframes 10 -vcodec libx264 -preset slow -pix_fmt yuv420p -crf 23 -g 10 -bf 0 trailer-3e.mp4 >/dev/null 2>&1\n",
      "print MP4('trailer-3e.mp4').chunks()[0]"
     ],
     "language": "python",
     "metadata": {},
     "outputs": [
      {
       "output_type": "stream",
       "stream": "stdout",
       "text": [
        "Read trailer-3e.mp4\n",
        "Chunk(video=trailer-3e.mp4, index=0, offset=48, nsamples=10, length=1103, sample_description=1e693447)\n"
       ]
      }
     ],
     "prompt_number": 70
    },
    {
     "cell_type": "code",
     "collapsed": false,
     "input": [
      "!open trailer-3d.mp4"
     ],
     "language": "python",
     "metadata": {},
     "outputs": [],
     "prompt_number": 68
    },
    {
     "cell_type": "code",
     "collapsed": false,
     "input": [
      "!cp short.mp4 shortcopy.mp4\n",
      "!./Concatenate-mp4-videos.py shortcopy.mp4 trailer-3d.mp4\n",
      "!open shortcopy.mp4"
     ],
     "language": "python",
     "metadata": {},
     "outputs": [
      {
       "output_type": "stream",
       "stream": "stdout",
       "text": [
        "Read shortcopy.mp4\r\n",
        "Read trailer-3d.mp4\r\n",
        "New duration 11.417 sec (137 samples at 12.00000 FPS)\r\n",
        "rewriting video with free=6060\r\n",
        "Wrote shortcopy.mp4-tmp18444\r\n",
        "Read shortcopy.mp4\r\n",
        "Read trailer-3d.mp4\r\n",
        "New duration 11.417 sec (137 samples at 12.00000 FPS)\r\n",
        "Updated shortcopy.mp4, length 2047581\r\n"
       ]
      }
     ],
     "prompt_number": 76
    },
    {
     "cell_type": "code",
     "collapsed": false,
     "input": [
      "!open .\n"
     ],
     "language": "python",
     "metadata": {},
     "outputs": [],
     "prompt_number": 77
    },
    {
     "cell_type": "code",
     "collapsed": false,
     "input": [
      "!ffmpeg -y -i trailer.mp4 -vcodec libx264 -preset slow -pix_fmt yuv420p -crf 24 -g 10 -bf 0 trailer-3e.mp4 >/dev/null 2>&1\n",
      "print MP4('trailer-3e.mp4').chunks()[0]"
     ],
     "language": "python",
     "metadata": {},
     "outputs": [
      {
       "output_type": "stream",
       "stream": "stdout",
       "text": [
        "Read trailer-3e.mp4\n",
        "Chunk(video=trailer-3e.mp4, index=0, offset=48, nsamples=10, length=1313, sample_description=c76a8943)\n"
       ]
      }
     ],
     "prompt_number": 46
    },
    {
     "cell_type": "code",
     "collapsed": false,
     "input": [
      "!ffmpeg -y -f lavfi -i color=green:size=1068x600 -frames:v 10 -r 12 -bf 0 trailer-4.mp4 >/dev/null 2>&1\n",
      "print MP4('trailer-4.mp4').chunks()[0]"
     ],
     "language": "python",
     "metadata": {},
     "outputs": [
      {
       "output_type": "stream",
       "stream": "stdout",
       "text": [
        "Read trailer-4.mp4\n",
        "Chunk(video=trailer-4.mp4, index=0, offset=48, nsamples=10, length=1105, sample_description=b8b03922)\n"
       ]
      }
     ],
     "prompt_number": 41
    },
    {
     "cell_type": "code",
     "collapsed": false,
     "input": [
      "print MP4('short.mp4').chunks()"
     ],
     "language": "python",
     "metadata": {},
     "outputs": [
      {
       "output_type": "stream",
       "stream": "stdout",
       "text": [
        "Read short.mp4\n",
        "[Chunk(video=short.mp4, index=0, offset=1389, nsamples=60, length=1017531, sample_description=ac2ab1cc), Chunk(video=short.mp4, index=1, offset=1018920, nsamples=67, length=1021295, sample_description=ac2ab1cc)]\n"
       ]
      }
     ],
     "prompt_number": 28
    },
    {
     "cell_type": "code",
     "collapsed": false,
     "input": [
      "print MP4('no-stss.mp4').chunks()"
     ],
     "language": "python",
     "metadata": {},
     "outputs": [
      {
       "output_type": "stream",
       "stream": "stdout",
       "text": [
        "Read no-stss.mp4\n",
        "[Chunk(video=no-stss.mp4, index=0, offset=9249, nsamples=52, length=1036410, sample_description=ac2ab1cc), Chunk(video=no-stss.mp4, index=1, offset=1045659, nsamples=54, length=1033851, sample_description=ac2ab1cc), Chunk(video=no-stss.mp4, index=2, offset=2079510, nsamples=11, length=208273, sample_description=ac2ab1cc), Chunk(video=no-stss.mp4, index=3, offset=2287783, nsamples=52, length=1036410, sample_description=ac2ab1cc), Chunk(video=no-stss.mp4, index=4, offset=3324193, nsamples=54, length=1033851, sample_description=ac2ab1cc), Chunk(video=no-stss.mp4, index=5, offset=4358044, nsamples=11, length=208273, sample_description=ac2ab1cc)]\n"
       ]
      }
     ],
     "prompt_number": 29
    },
    {
     "cell_type": "code",
     "collapsed": false,
     "input": [
      "print MP4('more-chunks-than-stsc.mp4').chunks()"
     ],
     "language": "python",
     "metadata": {},
     "outputs": [
      {
       "output_type": "stream",
       "stream": "stdout",
       "text": [
        "Read more-chunks-than-stsc.mp4\n",
        "[Chunk(video=more-chunks-than-stsc.mp4, index=0, offset=1405, nsamples=34, length=1029071, sample_description=ac2ab1cc), Chunk(video=more-chunks-than-stsc.mp4, index=1, offset=1030476, nsamples=34, length=1031506, sample_description=ac2ab1cc), Chunk(video=more-chunks-than-stsc.mp4, index=2, offset=2061982, nsamples=33, length=1018261, sample_description=ac2ab1cc), Chunk(video=more-chunks-than-stsc.mp4, index=3, offset=3080243, nsamples=16, length=497143, sample_description=ac2ab1cc)]\n"
       ]
      }
     ],
     "prompt_number": 31
    }
   ],
   "metadata": {}
  }
 ]
}